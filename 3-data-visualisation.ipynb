{
 "cells": [
  {
   "cell_type": "markdown",
   "metadata": {},
   "source": [
    "# Welcome to Part 3: data visualisation\n",
    "\n",
    "### Let's do some plotting!"
   ]
  },
  {
   "cell_type": "code",
   "execution_count": null,
   "metadata": {},
   "outputs": [],
   "source": [
    "# Load libraries\n",
    "import pandas as pd\n",
    "import matplotlib.pyplot as plt\n",
    "import seaborn as sns"
   ]
  },
  {
   "cell_type": "code",
   "execution_count": null,
   "metadata": {},
   "outputs": [],
   "source": [
    "# Read in the data\n",
    "un_data = pd.read_csv('data/UN_modified.csv')"
   ]
  },
  {
   "cell_type": "markdown",
   "metadata": {},
   "source": [
    "### Histograms"
   ]
  },
  {
   "cell_type": "code",
   "execution_count": null,
   "metadata": {},
   "outputs": [],
   "source": [
    "# Plot histograms of the numerical columns\n",
    "hist = un_data.hist()"
   ]
  },
  {
   "cell_type": "code",
   "execution_count": null,
   "metadata": {},
   "outputs": [],
   "source": [
    "# Plot a histograms of a specific column split by region\n",
    "hist_by_region = un_data.hist(column='infantMortality', by='region')"
   ]
  },
  {
   "cell_type": "markdown",
   "metadata": {},
   "source": [
    "### Box plots"
   ]
  },
  {
   "cell_type": "code",
   "execution_count": null,
   "metadata": {},
   "outputs": [],
   "source": [
    "# Plot a box plots of a specific column split by region\n",
    "boxplot = un_data.boxplot(column='infantMortality', by='region')"
   ]
  },
  {
   "cell_type": "markdown",
   "metadata": {},
   "source": [
    "### Scatter plots"
   ]
  },
  {
   "cell_type": "code",
   "execution_count": null,
   "metadata": {},
   "outputs": [],
   "source": [
    "# Plot a scatter plot of two columns in the dataframe\n",
    "scatter = un_data.plot.scatter('GDPpp', 'infantMortality')\n",
    "plt.xlabel('GDP per capita')\n",
    "plt.ylabel('Infant mortality rate')"
   ]
  },
  {
   "cell_type": "code",
   "execution_count": null,
   "metadata": {},
   "outputs": [],
   "source": [
    "# Using the seaborn module we have loaded we can make a nicer plot, showing different regions in different colours\n",
    "# scatterplot is a new function of the seaborn package. Requires v0.9.0 of seaborn. \n",
    "# You can check your version with sns.__version__ \n",
    "# If it is not up to date run \"!pip install seaborn\"\n",
    "\n",
    "scatter = sns.scatterplot(x = \"GDPpp\", y = \"infantMortality\",\n",
    "                          hue = \"region\",\n",
    "                          data = un_data)\n",
    "scatter.set(xscale = \"log\")"
   ]
  },
  {
   "cell_type": "markdown",
   "metadata": {},
   "source": [
    "#### Investigate adapting this scatter plot\n",
    "\n",
    "You can use different colours, vary size and style of points, change axis titles, look at different variables.\n",
    "\n",
    "There's a lot to do here, so spend time investigating\n",
    "\n",
    "For help, there are many examples here:\n",
    "https://seaborn.pydata.org/generated/seaborn.scatterplot.html"
   ]
  },
  {
   "cell_type": "markdown",
   "metadata": {},
   "source": [
    "### Saving plots"
   ]
  },
  {
   "cell_type": "code",
   "execution_count": null,
   "metadata": {},
   "outputs": [],
   "source": [
    "# Create a directory to save our plots into (only if it doesn't already exist)\n",
    "import os\n",
    "if not os.path.exists('plots'):\n",
    "        os.mkdir('plots')"
   ]
  },
  {
   "cell_type": "code",
   "execution_count": null,
   "metadata": {},
   "outputs": [],
   "source": [
    "scatter = sns.scatterplot(x = \"GDPpp\", y = \"infantMortality\",\n",
    "                          hue = \"region\",\n",
    "                          data = un_data)\n",
    "scatter.set(xscale = \"log\")\n",
    "\n",
    "# Saving current plot to a file. File type is specified by the file extension\n",
    "plt.savefig('plots/myplot.png')\n",
    "plt.savefig('plots/myplot.pdf')"
   ]
  },
  {
   "cell_type": "markdown",
   "metadata": {},
   "source": [
    "### Visualising patterns in the data"
   ]
  },
  {
   "cell_type": "code",
   "execution_count": null,
   "metadata": {
    "scrolled": false
   },
   "outputs": [],
   "source": [
    "regression = sns.regplot(x = \"lifeExpectancy\", y = \"infantMortality\", data = un_data)"
   ]
  },
  {
   "cell_type": "markdown",
   "metadata": {},
   "source": [
    "#### Investigate more on visualsing patterns in the data\n",
    "\n",
    "https://seaborn.pydata.org/tutorial/regression.html"
   ]
  }
 ],
 "metadata": {
  "kernelspec": {
   "display_name": "Python 3",
   "language": "python",
   "name": "python3"
  },
  "language_info": {
   "codemirror_mode": {
    "name": "ipython",
    "version": 3
   },
   "file_extension": ".py",
   "mimetype": "text/x-python",
   "name": "python",
   "nbconvert_exporter": "python",
   "pygments_lexer": "ipython3",
   "version": "3.6.5"
  }
 },
 "nbformat": 4,
 "nbformat_minor": 2
}
