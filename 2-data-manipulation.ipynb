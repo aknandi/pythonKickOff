{
 "cells": [
  {
   "cell_type": "markdown",
   "metadata": {},
   "source": [
    "# Welcome to Part 2: data manipulation\n",
    "\n",
    "### Let's get more involved with the data!"
   ]
  },
  {
   "cell_type": "code",
   "execution_count": null,
   "metadata": {},
   "outputs": [],
   "source": [
    "# Load libraries\n",
    "import pandas as pd\n",
    "\n",
    "# Read in data\n",
    "un_data = pd.read_csv('data/UN.csv')"
   ]
  },
  {
   "cell_type": "markdown",
   "metadata": {},
   "source": [
    "Questions we might like to answer\n",
    "\n",
    "1. Does the GDP per capita vary more across Latin America or Asia?\n",
    "2. How different is fertility different in Africa compared to Europe?\n",
    "3. Which countries are we missing data for? Is there a lot of data missing? What should we do?\n",
    "4. Do the column names make sense or do we want to rename them to something more readable?"
   ]
  },
  {
   "cell_type": "markdown",
   "metadata": {},
   "source": [
    "### 1.  Does the GDP per capita vary more across Latin America or Asia?"
   ]
  },
  {
   "cell_type": "code",
   "execution_count": null,
   "metadata": {},
   "outputs": [],
   "source": [
    "# Here we are selecting all countries that are in the Latin America region\n",
    "latin_data = un_data[un_data['region'] == 'Latin Amer']\n",
    "latin_data.head()"
   ]
  },
  {
   "cell_type": "code",
   "execution_count": null,
   "metadata": {},
   "outputs": [],
   "source": [
    "# Now select the Asian countries\n",
    "asia_data = un_data[un_data['region'] == 'Asia']\n",
    "asia_data.head()"
   ]
  },
  {
   "cell_type": "code",
   "execution_count": null,
   "metadata": {},
   "outputs": [],
   "source": [
    "print(\"Standard deviation of GDP in Latin America\", latin_data.ppgdp.std())\n",
    "print(\"Standard deviation of GDP in Asia\", asia_data.ppgdp.std())"
   ]
  },
  {
   "cell_type": "markdown",
   "metadata": {},
   "source": [
    "### 2. How different is fertility different in Africa compared to Europe?"
   ]
  },
  {
   "cell_type": "code",
   "execution_count": null,
   "metadata": {},
   "outputs": [],
   "source": [
    "# Here we are selecting all countries that are in the Africa region\n",
    "africa_data = un_data[un_data['region'] == 'Africa']\n",
    "africa_data.head()"
   ]
  },
  {
   "cell_type": "code",
   "execution_count": null,
   "metadata": {},
   "outputs": [],
   "source": [
    "# Now select the equrope data\n",
    "europe_data = un_data[un_data['region'] == 'Europe']\n",
    "europe_data.head()"
   ]
  },
  {
   "cell_type": "code",
   "execution_count": null,
   "metadata": {},
   "outputs": [],
   "source": [
    "print(\"Africa:\\n\", africa_data.fertility.describe())\n",
    "print(\"Europe:\\n\", europe_data.fertility.describe())"
   ]
  },
  {
   "cell_type": "code",
   "execution_count": null,
   "metadata": {},
   "outputs": [],
   "source": [
    "# Rather than just compare fertility, we can compare all variables at once between the two continents\n",
    "print(\"Africa:\\n\", africa_data.describe())\n",
    "print(\"\\nEurope:\\n\", europe_data.describe())"
   ]
  },
  {
   "cell_type": "markdown",
   "metadata": {},
   "source": [
    "### 3. Which countries are we missing data for? Is there a lot of data missing? What should we do?"
   ]
  },
  {
   "cell_type": "code",
   "execution_count": null,
   "metadata": {},
   "outputs": [],
   "source": [
    "# Selecting the rows of the dataframe that contain NAs values for the region column\n",
    "un_data[un_data.region.isna()]"
   ]
  },
  {
   "cell_type": "code",
   "execution_count": null,
   "metadata": {},
   "outputs": [],
   "source": [
    "un_data.head()"
   ]
  },
  {
   "cell_type": "code",
   "execution_count": null,
   "metadata": {},
   "outputs": [],
   "source": [
    "# What is actually being done here? Take your time. Ask if you are not sure\n",
    "# For further help, take a look at the un_data.head()\n",
    "un_data['number_nas'] = un_data.isna().sum(axis=1)"
   ]
  },
  {
   "cell_type": "code",
   "execution_count": null,
   "metadata": {},
   "outputs": [],
   "source": [
    "# We have added a column called 'number_nas', which contains the number of NAs that appear in that column\n",
    "un_data.head()"
   ]
  },
  {
   "cell_type": "code",
   "execution_count": null,
   "metadata": {},
   "outputs": [],
   "source": [
    "# We find the maximum number of NAs that appear in any column and give that value the name max_nas\n",
    "max_nas = max(un_data['number_nas'])\n",
    "print(max_nas)"
   ]
  },
  {
   "cell_type": "markdown",
   "metadata": {},
   "source": [
    "The next lines are more complicated. Take your time to understand what is going on here"
   ]
  },
  {
   "cell_type": "code",
   "execution_count": null,
   "metadata": {},
   "outputs": [],
   "source": [
    "# Here we have another for loop. \n",
    "# What does the range function do?\n",
    "# Try changing range(5) to range(1, 10, 2). What does this do?\n",
    "for i in range(5):\n",
    "    print(i)"
   ]
  },
  {
   "cell_type": "code",
   "execution_count": null,
   "metadata": {},
   "outputs": [],
   "source": [
    "# Now a for loop based on our data\n",
    "# Make sure you understand what is going on here. Ask if you are not sure\n",
    "for n_missing in range(max_nas + 1):\n",
    "    print(\"There are \", sum(un_data['number_nas'] == n_missing), \" countries with \", n_missing, \"NaNs.\")\n",
    "\n",
    "# Why are we using range(max_nas + 1)?"
   ]
  },
  {
   "cell_type": "code",
   "execution_count": null,
   "metadata": {},
   "outputs": [],
   "source": [
    "# Here we list the countries that contain a single NA in the row\n",
    "print(un_data[un_data['number_nas'] == 1].country)"
   ]
  },
  {
   "cell_type": "code",
   "execution_count": null,
   "metadata": {},
   "outputs": [],
   "source": [
    "# And let's list the countries that contain a six NAs in the row\n",
    "print(un_data[un_data['number_nas'] == 6].country)"
   ]
  },
  {
   "cell_type": "code",
   "execution_count": null,
   "metadata": {},
   "outputs": [],
   "source": [
    "# Based on these results we probably want to remove all the rows that contain six NAs from our table\n",
    "# We are modifying the existing dataframe. Note the dimensions before and afterwards. We have removed 14 rows, as expected\n",
    "print(un_data.shape)\n",
    "un_data = un_data[un_data.number_nas != 6] # The '!=' operator mean 'not equal to' \n",
    "print(un_data.shape)"
   ]
  },
  {
   "cell_type": "markdown",
   "metadata": {},
   "source": [
    "### 4. Do the column names make sense or do we want to rename them to something more readable?"
   ]
  },
  {
   "cell_type": "code",
   "execution_count": null,
   "metadata": {},
   "outputs": [],
   "source": [
    "# Lets look at the column names\n",
    "un_data.columns\n",
    "\n",
    "# We can see that some of them are not very well named, so maybe we want to rename them"
   ]
  },
  {
   "cell_type": "code",
   "execution_count": null,
   "metadata": {},
   "outputs": [],
   "source": [
    "# We can rename columns of the dataframe by specifying the old and new columns of the ones we want to rename\n",
    "un_data.rename(columns = {'fertility':'fertilityRate', 'ppgdp':'GDPperperson'}, inplace = True)"
   ]
  },
  {
   "cell_type": "code",
   "execution_count": null,
   "metadata": {},
   "outputs": [],
   "source": [
    "# You can see that the column names have now changed\n",
    "un_data.head()"
   ]
  },
  {
   "cell_type": "code",
   "execution_count": null,
   "metadata": {},
   "outputs": [],
   "source": [
    "# If we want to rename many columns at once we may want specify an array of all the column names (in order)\n",
    "un_data.columns = ['country', 'region', 'group', 'fertilityRate', 'GDPpp', 'lifeExpectancy', \n",
    "                   'percentageUrban', 'infantMortality', 'numberNas']"
   ]
  },
  {
   "cell_type": "code",
   "execution_count": null,
   "metadata": {},
   "outputs": [],
   "source": [
    "un_data.head()"
   ]
  },
  {
   "cell_type": "markdown",
   "metadata": {},
   "source": [
    "### Saving a dataframe to csv"
   ]
  },
  {
   "cell_type": "code",
   "execution_count": null,
   "metadata": {},
   "outputs": [],
   "source": [
    "# We can now save our modified data frame as a new csv file\n",
    "un_data.to_csv('data/UN_modified.csv')"
   ]
  },
  {
   "cell_type": "markdown",
   "metadata": {},
   "source": [
    "### Take few minutes to try running some lines of code to explore the data further. Don't hesitate to ask your instructor for any further help."
   ]
  }
 ],
 "metadata": {
  "kernelspec": {
   "display_name": "Python 3",
   "language": "python",
   "name": "python3"
  },
  "language_info": {
   "codemirror_mode": {
    "name": "ipython",
    "version": 3
   },
   "file_extension": ".py",
   "mimetype": "text/x-python",
   "name": "python",
   "nbconvert_exporter": "python",
   "pygments_lexer": "ipython3",
   "version": "3.6.5"
  }
 },
 "nbformat": 4,
 "nbformat_minor": 2
}
